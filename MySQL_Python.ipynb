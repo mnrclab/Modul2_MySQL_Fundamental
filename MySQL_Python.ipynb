{
 "cells": [
  {
   "cell_type": "markdown",
   "metadata": {},
   "source": [
    "# __MySQL Python__"
   ]
  },
  {
   "cell_type": "code",
   "execution_count": 1,
   "metadata": {},
   "outputs": [],
   "source": [
    "import mysql.connector\n",
    "import pandas as pd"
   ]
  },
  {
   "cell_type": "markdown",
   "metadata": {},
   "source": [
    "## Create Connection"
   ]
  },
  {
   "cell_type": "code",
   "execution_count": 2,
   "metadata": {},
   "outputs": [],
   "source": [
    "mydb = mysql.connector.connect(\n",
    "    host = 'localhost',\n",
    "    user = 'root',\n",
    "    passwd = 'rahasia',\n",
    "    database = 'toko'\n",
    ")"
   ]
  },
  {
   "cell_type": "markdown",
   "metadata": {},
   "source": [
    "## Acces Tables in Database"
   ]
  },
  {
   "cell_type": "code",
   "execution_count": 3,
   "metadata": {},
   "outputs": [
    {
     "name": "stdout",
     "output_type": "stream",
     "text": [
      "[(1, 'Andi Santosa', 32, 68.3, 'Jakarta', 2010, None), (2, 'Budi Permana', 32, 88.1, 'Jakarta', 1999, datetime.datetime(2020, 6, 30, 10, 23, 28)), (3, 'Cecep Sutisna', 35, 68.9, 'Bandung', 2000, datetime.datetime(2020, 6, 30, 10, 23, 28)), (4, 'Dedi Hartanto', 32, 71.3, 'Salatiga', 1998, datetime.datetime(2020, 6, 30, 10, 23, 28)), (5, 'Eva Soraya', 32, 48.1, 'Medan', 2015, datetime.datetime(2020, 6, 30, 10, 50, 19)), (6, 'Farah Naimah', 29, 52.3, 'Surabaya', 2010, datetime.datetime(2020, 6, 30, 10, 50, 19)), (7, 'Gianti Safitri', 22, 51.6, 'Bandung', 2017, datetime.datetime(2020, 6, 30, 10, 50, 19)), (8, 'Hamzah Syah', 34, 66.0, 'Yogyakarta', 2008, datetime.datetime(2020, 6, 30, 10, 50, 19)), (9, 'Irene Sukindar', 25, 49.3, 'Jakarta', 2016, datetime.datetime(2020, 6, 30, 10, 50, 19)), (10, 'Joni Saputra', 28, 69.8, 'Yogyakarta', 2000, datetime.datetime(2020, 6, 30, 10, 50, 19)), (11, 'Budi Raharja', 52, 70.0, 'Jakarta', 1998, datetime.datetime(2020, 6, 30, 10, 58, 6)), (12, 'Andi Raharja', 35, 67.0, 'Jakarta', 2018, datetime.datetime(2020, 7, 2, 11, 0, 47))]\n"
     ]
    }
   ],
   "source": [
    "mycursor = mydb.cursor()\n",
    "query = 'select * from karyawan'\n",
    "\n",
    "mycursor.execute(query)\n",
    "myresult = mycursor.fetchall()\n",
    "print(myresult)"
   ]
  },
  {
   "cell_type": "code",
   "execution_count": 4,
   "metadata": {},
   "outputs": [
    {
     "data": {
      "text/plain": [
       "('No', 'Nama', 'Usia', 'Berat', 'Kota', 'Th', 'Data_In')"
      ]
     },
     "execution_count": 4,
     "metadata": {},
     "output_type": "execute_result"
    }
   ],
   "source": [
    "columns = mycursor.column_names\n",
    "columns"
   ]
  },
  {
   "cell_type": "code",
   "execution_count": 5,
   "metadata": {},
   "outputs": [
    {
     "data": {
      "text/html": [
       "<div>\n",
       "<style scoped>\n",
       "    .dataframe tbody tr th:only-of-type {\n",
       "        vertical-align: middle;\n",
       "    }\n",
       "\n",
       "    .dataframe tbody tr th {\n",
       "        vertical-align: top;\n",
       "    }\n",
       "\n",
       "    .dataframe thead th {\n",
       "        text-align: right;\n",
       "    }\n",
       "</style>\n",
       "<table border=\"1\" class=\"dataframe\">\n",
       "  <thead>\n",
       "    <tr style=\"text-align: right;\">\n",
       "      <th></th>\n",
       "      <th>No</th>\n",
       "      <th>Nama</th>\n",
       "      <th>Usia</th>\n",
       "      <th>Berat</th>\n",
       "      <th>Kota</th>\n",
       "      <th>Th</th>\n",
       "      <th>Data_In</th>\n",
       "    </tr>\n",
       "  </thead>\n",
       "  <tbody>\n",
       "    <tr>\n",
       "      <th>0</th>\n",
       "      <td>1</td>\n",
       "      <td>Andi Santosa</td>\n",
       "      <td>32</td>\n",
       "      <td>68.3</td>\n",
       "      <td>Jakarta</td>\n",
       "      <td>2010</td>\n",
       "      <td>NaT</td>\n",
       "    </tr>\n",
       "    <tr>\n",
       "      <th>1</th>\n",
       "      <td>2</td>\n",
       "      <td>Budi Permana</td>\n",
       "      <td>32</td>\n",
       "      <td>88.1</td>\n",
       "      <td>Jakarta</td>\n",
       "      <td>1999</td>\n",
       "      <td>2020-06-30 10:23:28</td>\n",
       "    </tr>\n",
       "    <tr>\n",
       "      <th>2</th>\n",
       "      <td>3</td>\n",
       "      <td>Cecep Sutisna</td>\n",
       "      <td>35</td>\n",
       "      <td>68.9</td>\n",
       "      <td>Bandung</td>\n",
       "      <td>2000</td>\n",
       "      <td>2020-06-30 10:23:28</td>\n",
       "    </tr>\n",
       "    <tr>\n",
       "      <th>3</th>\n",
       "      <td>4</td>\n",
       "      <td>Dedi Hartanto</td>\n",
       "      <td>32</td>\n",
       "      <td>71.3</td>\n",
       "      <td>Salatiga</td>\n",
       "      <td>1998</td>\n",
       "      <td>2020-06-30 10:23:28</td>\n",
       "    </tr>\n",
       "    <tr>\n",
       "      <th>4</th>\n",
       "      <td>5</td>\n",
       "      <td>Eva Soraya</td>\n",
       "      <td>32</td>\n",
       "      <td>48.1</td>\n",
       "      <td>Medan</td>\n",
       "      <td>2015</td>\n",
       "      <td>2020-06-30 10:50:19</td>\n",
       "    </tr>\n",
       "    <tr>\n",
       "      <th>5</th>\n",
       "      <td>6</td>\n",
       "      <td>Farah Naimah</td>\n",
       "      <td>29</td>\n",
       "      <td>52.3</td>\n",
       "      <td>Surabaya</td>\n",
       "      <td>2010</td>\n",
       "      <td>2020-06-30 10:50:19</td>\n",
       "    </tr>\n",
       "    <tr>\n",
       "      <th>6</th>\n",
       "      <td>7</td>\n",
       "      <td>Gianti Safitri</td>\n",
       "      <td>22</td>\n",
       "      <td>51.6</td>\n",
       "      <td>Bandung</td>\n",
       "      <td>2017</td>\n",
       "      <td>2020-06-30 10:50:19</td>\n",
       "    </tr>\n",
       "    <tr>\n",
       "      <th>7</th>\n",
       "      <td>8</td>\n",
       "      <td>Hamzah Syah</td>\n",
       "      <td>34</td>\n",
       "      <td>66.0</td>\n",
       "      <td>Yogyakarta</td>\n",
       "      <td>2008</td>\n",
       "      <td>2020-06-30 10:50:19</td>\n",
       "    </tr>\n",
       "    <tr>\n",
       "      <th>8</th>\n",
       "      <td>9</td>\n",
       "      <td>Irene Sukindar</td>\n",
       "      <td>25</td>\n",
       "      <td>49.3</td>\n",
       "      <td>Jakarta</td>\n",
       "      <td>2016</td>\n",
       "      <td>2020-06-30 10:50:19</td>\n",
       "    </tr>\n",
       "    <tr>\n",
       "      <th>9</th>\n",
       "      <td>10</td>\n",
       "      <td>Joni Saputra</td>\n",
       "      <td>28</td>\n",
       "      <td>69.8</td>\n",
       "      <td>Yogyakarta</td>\n",
       "      <td>2000</td>\n",
       "      <td>2020-06-30 10:50:19</td>\n",
       "    </tr>\n",
       "    <tr>\n",
       "      <th>10</th>\n",
       "      <td>11</td>\n",
       "      <td>Budi Raharja</td>\n",
       "      <td>52</td>\n",
       "      <td>70.0</td>\n",
       "      <td>Jakarta</td>\n",
       "      <td>1998</td>\n",
       "      <td>2020-06-30 10:58:06</td>\n",
       "    </tr>\n",
       "    <tr>\n",
       "      <th>11</th>\n",
       "      <td>12</td>\n",
       "      <td>Andi Raharja</td>\n",
       "      <td>35</td>\n",
       "      <td>67.0</td>\n",
       "      <td>Jakarta</td>\n",
       "      <td>2018</td>\n",
       "      <td>2020-07-02 11:00:47</td>\n",
       "    </tr>\n",
       "  </tbody>\n",
       "</table>\n",
       "</div>"
      ],
      "text/plain": [
       "    No            Nama  Usia  Berat        Kota    Th             Data_In\n",
       "0    1    Andi Santosa    32   68.3     Jakarta  2010                 NaT\n",
       "1    2    Budi Permana    32   88.1     Jakarta  1999 2020-06-30 10:23:28\n",
       "2    3   Cecep Sutisna    35   68.9     Bandung  2000 2020-06-30 10:23:28\n",
       "3    4   Dedi Hartanto    32   71.3    Salatiga  1998 2020-06-30 10:23:28\n",
       "4    5      Eva Soraya    32   48.1       Medan  2015 2020-06-30 10:50:19\n",
       "5    6    Farah Naimah    29   52.3    Surabaya  2010 2020-06-30 10:50:19\n",
       "6    7  Gianti Safitri    22   51.6     Bandung  2017 2020-06-30 10:50:19\n",
       "7    8     Hamzah Syah    34   66.0  Yogyakarta  2008 2020-06-30 10:50:19\n",
       "8    9  Irene Sukindar    25   49.3     Jakarta  2016 2020-06-30 10:50:19\n",
       "9   10    Joni Saputra    28   69.8  Yogyakarta  2000 2020-06-30 10:50:19\n",
       "10  11    Budi Raharja    52   70.0     Jakarta  1998 2020-06-30 10:58:06\n",
       "11  12    Andi Raharja    35   67.0     Jakarta  2018 2020-07-02 11:00:47"
      ]
     },
     "execution_count": 5,
     "metadata": {},
     "output_type": "execute_result"
    }
   ],
   "source": [
    "df = pd.DataFrame(myresult, columns = columns)\n",
    "df"
   ]
  },
  {
   "cell_type": "markdown",
   "metadata": {},
   "source": [
    "<hr>\n",
    "\n",
    "## __Take Class Exercise__\n",
    "\n",
    "### __A. Connect ke database__: ``World``\n",
    "### __B. Tampilkan table seperti perintah berikut__: (latihan sebelumnya soal nomor 3 & 5)\n",
    "\n",
    "#### 3) Tampilkan daftar 10 negara yang tercatat merdeka paling awal. Daftar negara yang tidak diketahui tahun kemerdekaannya, tidak perlu diikutsertakan. \n",
    "Kolom yang diwajibkan ada minimal adalah kode negara, nama negara, benua, regional dan tahun merdeka (Independence Year).\n",
    "\n",
    "#### 5) Tampilkan daftar negara-negara Asia yang memiliki angka harapan hidup lebih dari rata-rata angka harapan hidup negara-negara Eropa. \n",
    "Kolom yang diwajibkan ada yaitu nama negara, nama benua, angka harapan hidup dan Pendapatan Nasional Bruto/GNP (Gross National Product). Urutkan data dari negara Asia dengan angka harapan hidup tertinggi. "
   ]
  },
  {
   "cell_type": "code",
   "execution_count": null,
   "metadata": {},
   "outputs": [],
   "source": []
  },
  {
   "cell_type": "code",
   "execution_count": null,
   "metadata": {},
   "outputs": [],
   "source": []
  },
  {
   "cell_type": "code",
   "execution_count": null,
   "metadata": {},
   "outputs": [],
   "source": []
  }
 ],
 "metadata": {
  "kernelspec": {
   "display_name": "Python 3.8.1 32-bit",
   "language": "python",
   "name": "python38132bitf9f79e71b62e4503b25567c1d3914456"
  },
  "language_info": {
   "codemirror_mode": {
    "name": "ipython",
    "version": 3
   },
   "file_extension": ".py",
   "mimetype": "text/x-python",
   "name": "python",
   "nbconvert_exporter": "python",
   "pygments_lexer": "ipython3",
   "version": "3.8.1"
  }
 },
 "nbformat": 4,
 "nbformat_minor": 4
}
